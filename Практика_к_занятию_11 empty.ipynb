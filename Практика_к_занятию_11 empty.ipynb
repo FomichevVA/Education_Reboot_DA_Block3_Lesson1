{
 "cells": [
  {
   "cell_type": "markdown",
   "metadata": {
    "toc": true
   },
   "source": [
    "<h1>Table of Contents<span class=\"tocSkip\"></span></h1>\n",
    "<div class=\"toc\"><ul class=\"toc-item\"><li><span><a href=\"#Практика\" data-toc-modified-id=\"Практика-1\"><span class=\"toc-item-num\">1&nbsp;&nbsp;</span>Практика</a></span><ul class=\"toc-item\"><li><span><a href=\"#Определение-вероятности.-События\" data-toc-modified-id=\"Определение-вероятности.-События-1.1\"><span class=\"toc-item-num\">1.1&nbsp;&nbsp;</span>Определение вероятности. События</a></span><ul class=\"toc-item\"><li><span><a href=\"#Задача-1\" data-toc-modified-id=\"Задача-1-1.1.1\"><span class=\"toc-item-num\">1.1.1&nbsp;&nbsp;</span>Задача 1</a></span></li><li><span><a href=\"#Задача-2\" data-toc-modified-id=\"Задача-2-1.1.2\"><span class=\"toc-item-num\">1.1.2&nbsp;&nbsp;</span>Задача 2</a></span></li><li><span><a href=\"#Задача-3\" data-toc-modified-id=\"Задача-3-1.1.3\"><span class=\"toc-item-num\">1.1.3&nbsp;&nbsp;</span>Задача 3</a></span></li><li><span><a href=\"#Задача-4\" data-toc-modified-id=\"Задача-4-1.1.4\"><span class=\"toc-item-num\">1.1.4&nbsp;&nbsp;</span>Задача 4</a></span></li></ul></li><li><span><a href=\"#Вероятность-суммы-событий\" data-toc-modified-id=\"Вероятность-суммы-событий-1.2\"><span class=\"toc-item-num\">1.2&nbsp;&nbsp;</span>Вероятность суммы событий</a></span><ul class=\"toc-item\"><li><span><a href=\"#Задача-5\" data-toc-modified-id=\"Задача-5-1.2.1\"><span class=\"toc-item-num\">1.2.1&nbsp;&nbsp;</span>Задача 5</a></span></li><li><span><a href=\"#Задача-6\" data-toc-modified-id=\"Задача-6-1.2.2\"><span class=\"toc-item-num\">1.2.2&nbsp;&nbsp;</span>Задача 6</a></span></li></ul></li><li><span><a href=\"#Случайные-величины\" data-toc-modified-id=\"Случайные-величины-1.3\"><span class=\"toc-item-num\">1.3&nbsp;&nbsp;</span>Случайные величины</a></span><ul class=\"toc-item\"><li><span><a href=\"#Задача-7\" data-toc-modified-id=\"Задача-7-1.3.1\"><span class=\"toc-item-num\">1.3.1&nbsp;&nbsp;</span>Задача 7</a></span></li><li><span><a href=\"#Задача-8\" data-toc-modified-id=\"Задача-8-1.3.2\"><span class=\"toc-item-num\">1.3.2&nbsp;&nbsp;</span>Задача 8</a></span></li></ul></li><li><span><a href=\"#Условные-вероятности\" data-toc-modified-id=\"Условные-вероятности-1.4\"><span class=\"toc-item-num\">1.4&nbsp;&nbsp;</span>Условные вероятности</a></span><ul class=\"toc-item\"><li><span><a href=\"#Задача-9\" data-toc-modified-id=\"Задача-9-1.4.1\"><span class=\"toc-item-num\">1.4.1&nbsp;&nbsp;</span>Задача 9</a></span></li><li><span><a href=\"#Задача-10\" data-toc-modified-id=\"Задача-10-1.4.2\"><span class=\"toc-item-num\">1.4.2&nbsp;&nbsp;</span>Задача 10</a></span></li></ul></li></ul></li></ul></div>"
   ]
  },
  {
   "cell_type": "markdown",
   "metadata": {
    "id": "pDrecLU-4QjS"
   },
   "source": [
    "# Практика"
   ]
  },
  {
   "cell_type": "code",
   "execution_count": 1,
   "metadata": {},
   "outputs": [],
   "source": [
    "import pandas as pd\n",
    "import numpy as np\n",
    "import matplotlib.pyplot as plt\n",
    "import random\n",
    "import scipy.stats as sts\n",
    "%matplotlib inline\n",
    "from itertools import product\n",
    "import warnings\n",
    "warnings.filterwarnings('ignore')"
   ]
  },
  {
   "cell_type": "markdown",
   "metadata": {
    "id": "gUvTNDlMaV-a"
   },
   "source": [
    "## Определение вероятности. События\n",
    "\n",
    "Требуется сгенерировать необходимые выборки и произвести по ним расчеты"
   ]
  },
  {
   "cell_type": "markdown",
   "metadata": {
    "id": "5V70InEBTgup"
   },
   "source": [
    "### Задача 1\n",
    "Брошено две монеты. Найти вероятность того, что монеты выпали разными сторонами"
   ]
  },
  {
   "cell_type": "markdown",
   "metadata": {},
   "source": [
    "##### Вариант 1"
   ]
  },
  {
   "cell_type": "code",
   "execution_count": 52,
   "metadata": {},
   "outputs": [
    {
     "data": {
      "text/plain": [
       "0.50201"
      ]
     },
     "execution_count": 52,
     "metadata": {},
     "output_type": "execute_result"
    }
   ],
   "source": [
    "coin = ['head', 'tail']\n",
    "# можно бросать одну монету 2 раз и сравнивать результаты 1-го и 2-го броска\n",
    "event_A = [(np.random.choice(coin) != np.random.choice(coin))]\n",
    "\n",
    "# задаем число экспериментов\n",
    "n = 100000\n",
    "# формируем выборку \n",
    "A = pd.Series([np.random.choice(coin) != np.random.choice(coin) for x in range(n)])\n",
    "# # считаем статистику выпадений событий когда стороны не совпали \n",
    "P_event_A = len(A[A==True])/len(A)\n",
    "P_event_A"
   ]
  },
  {
   "cell_type": "markdown",
   "metadata": {},
   "source": [
    "##### Вариант 2"
   ]
  },
  {
   "cell_type": "code",
   "execution_count": 58,
   "metadata": {},
   "outputs": [
    {
     "data": {
      "text/plain": [
       "0.50369"
      ]
     },
     "execution_count": 58,
     "metadata": {},
     "output_type": "execute_result"
    }
   ],
   "source": [
    "n = 100000\n",
    "# формируем выборку \n",
    "A = pd.Series([np.random.randint(2) != np.random.randint(2) for x in range(n)])\n",
    "# # считаем статистику выпадений событий когда стороны не совпали \n",
    "P_event_A = len(A[A==True])/len(A)\n",
    "P_event_A"
   ]
  },
  {
   "cell_type": "markdown",
   "metadata": {
    "id": "t0XOMos2Tl0e"
   },
   "source": [
    "### Задача 2\n",
    "Брошено три монеты. Описать множество всех элементарных событий. Найти вероятности следующих событий:\n",
    "\n",
    "\n",
    "1.   A = {не выпало ни одного герба}\n",
    "2.   B = {выпало четное число гербов}\n",
    "3.   C = {на третьей монете выпал герб}\n"
   ]
  },
  {
   "cell_type": "code",
   "execution_count": 103,
   "metadata": {
    "id": "o7NjAE9uUo-L"
   },
   "outputs": [
    {
     "data": {
      "text/html": [
       "<div>\n",
       "<style scoped>\n",
       "    .dataframe tbody tr th:only-of-type {\n",
       "        vertical-align: middle;\n",
       "    }\n",
       "\n",
       "    .dataframe tbody tr th {\n",
       "        vertical-align: top;\n",
       "    }\n",
       "\n",
       "    .dataframe thead th {\n",
       "        text-align: right;\n",
       "    }\n",
       "</style>\n",
       "<table border=\"1\" class=\"dataframe\">\n",
       "  <thead>\n",
       "    <tr style=\"text-align: right;\">\n",
       "      <th></th>\n",
       "      <th>Coin_1</th>\n",
       "      <th>Coin_2</th>\n",
       "      <th>Coin_3</th>\n",
       "    </tr>\n",
       "  </thead>\n",
       "  <tbody>\n",
       "    <tr>\n",
       "      <th>0</th>\n",
       "      <td>tail</td>\n",
       "      <td>head</td>\n",
       "      <td>head</td>\n",
       "    </tr>\n",
       "    <tr>\n",
       "      <th>1</th>\n",
       "      <td>head</td>\n",
       "      <td>head</td>\n",
       "      <td>head</td>\n",
       "    </tr>\n",
       "    <tr>\n",
       "      <th>2</th>\n",
       "      <td>head</td>\n",
       "      <td>tail</td>\n",
       "      <td>tail</td>\n",
       "    </tr>\n",
       "    <tr>\n",
       "      <th>3</th>\n",
       "      <td>tail</td>\n",
       "      <td>tail</td>\n",
       "      <td>tail</td>\n",
       "    </tr>\n",
       "    <tr>\n",
       "      <th>4</th>\n",
       "      <td>head</td>\n",
       "      <td>tail</td>\n",
       "      <td>tail</td>\n",
       "    </tr>\n",
       "  </tbody>\n",
       "</table>\n",
       "</div>"
      ],
      "text/plain": [
       "  Coin_1 Coin_2 Coin_3\n",
       "0   tail   head   head\n",
       "1   head   head   head\n",
       "2   head   tail   tail\n",
       "3   tail   tail   tail\n",
       "4   head   tail   tail"
      ]
     },
     "execution_count": 103,
     "metadata": {},
     "output_type": "execute_result"
    }
   ],
   "source": [
    "#  создадим dataset \n",
    "n = 10000\n",
    "dict_A = {'Coin_1':[np.random.choice(coin) for x in range(n)],\n",
    "          'Coin_2':[np.random.choice(coin) for x in range(n)],\n",
    "          'Coin_3':[np.random.choice(coin) for x in range(n)]}\n",
    "A = pd.DataFrame(data=dict_A)\n",
    "A.head()"
   ]
  },
  {
   "cell_type": "code",
   "execution_count": 100,
   "metadata": {},
   "outputs": [
    {
     "data": {
      "text/html": [
       "<div>\n",
       "<style scoped>\n",
       "    .dataframe tbody tr th:only-of-type {\n",
       "        vertical-align: middle;\n",
       "    }\n",
       "\n",
       "    .dataframe tbody tr th {\n",
       "        vertical-align: top;\n",
       "    }\n",
       "\n",
       "    .dataframe thead th {\n",
       "        text-align: right;\n",
       "    }\n",
       "</style>\n",
       "<table border=\"1\" class=\"dataframe\">\n",
       "  <thead>\n",
       "    <tr style=\"text-align: right;\">\n",
       "      <th></th>\n",
       "      <th>Coin_1</th>\n",
       "      <th>Coin_2</th>\n",
       "      <th>Coin_3</th>\n",
       "    </tr>\n",
       "  </thead>\n",
       "  <tbody>\n",
       "    <tr>\n",
       "      <th>0</th>\n",
       "      <td>head</td>\n",
       "      <td>head</td>\n",
       "      <td>head</td>\n",
       "    </tr>\n",
       "    <tr>\n",
       "      <th>26</th>\n",
       "      <td>head</td>\n",
       "      <td>head</td>\n",
       "      <td>tail</td>\n",
       "    </tr>\n",
       "    <tr>\n",
       "      <th>4</th>\n",
       "      <td>head</td>\n",
       "      <td>tail</td>\n",
       "      <td>head</td>\n",
       "    </tr>\n",
       "    <tr>\n",
       "      <th>2</th>\n",
       "      <td>head</td>\n",
       "      <td>tail</td>\n",
       "      <td>tail</td>\n",
       "    </tr>\n",
       "    <tr>\n",
       "      <th>5</th>\n",
       "      <td>tail</td>\n",
       "      <td>head</td>\n",
       "      <td>head</td>\n",
       "    </tr>\n",
       "    <tr>\n",
       "      <th>8</th>\n",
       "      <td>tail</td>\n",
       "      <td>head</td>\n",
       "      <td>tail</td>\n",
       "    </tr>\n",
       "    <tr>\n",
       "      <th>3</th>\n",
       "      <td>tail</td>\n",
       "      <td>tail</td>\n",
       "      <td>head</td>\n",
       "    </tr>\n",
       "    <tr>\n",
       "      <th>11</th>\n",
       "      <td>tail</td>\n",
       "      <td>tail</td>\n",
       "      <td>tail</td>\n",
       "    </tr>\n",
       "  </tbody>\n",
       "</table>\n",
       "</div>"
      ],
      "text/plain": [
       "   Coin_1 Coin_2 Coin_3\n",
       "0    head   head   head\n",
       "26   head   head   tail\n",
       "4    head   tail   head\n",
       "2    head   tail   tail\n",
       "5    tail   head   head\n",
       "8    tail   head   tail\n",
       "3    tail   tail   head\n",
       "11   tail   tail   tail"
      ]
     },
     "execution_count": 100,
     "metadata": {},
     "output_type": "execute_result"
    }
   ],
   "source": [
    "# для описания множества всех элементарных событий выберем из dataset уникальные строки\n",
    "A = A.sort_values(by = ['Coin_1', 'Coin_2','Coin_3'])\n",
    "elementary_events_set = A.drop_duplicates()\n",
    "elementary_events_set"
   ]
  },
  {
   "cell_type": "code",
   "execution_count": 101,
   "metadata": {},
   "outputs": [
    {
     "data": {
      "text/plain": [
       "(8, 3)"
      ]
     },
     "execution_count": 101,
     "metadata": {},
     "output_type": "execute_result"
    }
   ],
   "source": [
    "elementary_events_set.shape"
   ]
  },
  {
   "cell_type": "code",
   "execution_count": 122,
   "metadata": {},
   "outputs": [
    {
     "data": {
      "text/plain": [
       "0.1247"
      ]
     },
     "execution_count": 122,
     "metadata": {},
     "output_type": "execute_result"
    }
   ],
   "source": [
    "# A = {не выпало ни одного герба}\n",
    "n = 10000\n",
    "dict_A = {'Coin_1':[np.random.choice(coin) for x in range(n)],\n",
    "          'Coin_2':[np.random.choice(coin) for x in range(n)],\n",
    "          'Coin_3':[np.random.choice(coin) for x in range(n)]}\n",
    "A = pd.DataFrame(data=dict_A)\n",
    "\n",
    "P_A = len(A[(A.Coin_1=='tail')&(A.Coin_2=='tail')&(A.Coin_3=='tail')])/len(A)\n",
    "P_A\n"
   ]
  },
  {
   "cell_type": "code",
   "execution_count": 118,
   "metadata": {},
   "outputs": [
    {
     "data": {
      "text/plain": [
       "0.5071"
      ]
     },
     "execution_count": 118,
     "metadata": {},
     "output_type": "execute_result"
    }
   ],
   "source": [
    "# B = {выпало четное число гербов}\n",
    "n = 10000\n",
    "dict_A = {'Coin_1':[np.random.choice(coin) for x in range(n)],\n",
    "          'Coin_2':[np.random.choice(coin) for x in range(n)],\n",
    "          'Coin_3':[np.random.choice(coin) for x in range(n)]}\n",
    "A = pd.DataFrame(data=dict_A)\n",
    "\n",
    "def isHead(a):\n",
    "    '''возвращает 1 если выпал герб(\"head\")'''\n",
    "    return 1 if a=='head' else 0\n",
    "\n",
    "def evenHead(row):\n",
    "    '''Возвращает True если четное кол-во гербов'''\n",
    "    return True if isHead(row['Coin_1'])+isHead(row['Coin_1'])+isHead(row['Coin_1']) % 2 == 0 else False\n",
    "\n",
    "A['even_heard'] = A.apply(evenHead, axis=1)\n",
    "P_B = len(A[A.even_heard==True])/len(A)\n",
    "P_B"
   ]
  },
  {
   "cell_type": "code",
   "execution_count": 119,
   "metadata": {},
   "outputs": [
    {
     "data": {
      "text/plain": [
       "0.4915"
      ]
     },
     "execution_count": 119,
     "metadata": {},
     "output_type": "execute_result"
    }
   ],
   "source": [
    "# C = {на третьей монете выпал герб}\n",
    "n = 10000\n",
    "dict_A = {'Coin_1':[np.random.choice(coin) for x in range(n)],\n",
    "          'Coin_2':[np.random.choice(coin) for x in range(n)],\n",
    "          'Coin_3':[np.random.choice(coin) for x in range(n)]}\n",
    "A = pd.DataFrame(data=dict_A)\n",
    "\n",
    "P_C = len(A[A.Coin_3=='head'])/len(A)\n",
    "P_C"
   ]
  },
  {
   "cell_type": "markdown",
   "metadata": {},
   "source": [
    "Предлагается также решить задачи: \n",
    "\n",
    "### Задача 3\n",
    "Из двух претендентов E и L на ответственную должность три члена комиссии должны отобрать одного. Каждый член комиссии должен указать либо одного достойного, либо забраковать обоих. Претендент считается выбранным, если он был признана достойным хотя бы двумя членами комиссии.\n",
    "Найти вероятность событий:\n",
    "\n",
    "A = {рекомендован L}, B = {рекомендован E}\n"
   ]
  },
  {
   "cell_type": "code",
   "execution_count": 149,
   "metadata": {},
   "outputs": [
    {
     "name": "stdout",
     "output_type": "stream",
     "text": [
      "Вероятность выбора L: 0.265\n",
      "Вероятность выбора E: 0.263\n",
      "0.25925925925925924\n"
     ]
    }
   ],
   "source": [
    "chois = ['E','L','not']\n",
    "n=1000\n",
    "dict_judge = {'J_1': [np.random.choice(chois) for x in range(n)],\n",
    "              'J_2': [np.random.choice(chois) for x in range(n)],\n",
    "              'J_3': [np.random.choice(chois) for x in range(n)]}\n",
    "A3 = pd.DataFrame(data=dict_judge)\n",
    "\n",
    "def win(row):\n",
    "    '''Возвращает побидетеля голосования '''\n",
    "    lst = [row['J_1'],row['J_2'],row['J_3']]\n",
    "    if lst.count('E')>1:\n",
    "        return 'E'\n",
    "    elif lst.count('L')>1:\n",
    "        return 'L'\n",
    "    else:\n",
    "        return 'not'\n",
    "\n",
    "A3['Win'] = A3.apply(win, axis=1)\n",
    "P_A3 = len(A3[A3['Win']=='L'])/len(A3)\n",
    "P_B3 = len(A3[A3['Win']=='E'])/len(A3)\n",
    "print(f'Вероятность выбора L: {P_A3}\\nВероятность выбора E: {P_B3}\\n{7/27}')\n"
   ]
  },
  {
   "cell_type": "markdown",
   "metadata": {
    "id": "peM38mVfYa5B"
   },
   "source": [
    "### Задача 4\n",
    "Брошено две игральных кости. Описать множество элементарных событий. Найти вероятности событий:\n",
    "\n",
    "A = {вышло две \"шестерки\"}\n",
    "\n",
    "B = {сумма выпавших очков не меньше 11}\n",
    "\n",
    "C = {не выпала ни одна \"шестерка\"}"
   ]
  },
  {
   "cell_type": "code",
   "execution_count": 158,
   "metadata": {},
   "outputs": [
    {
     "data": {
      "text/html": [
       "<div>\n",
       "<style scoped>\n",
       "    .dataframe tbody tr th:only-of-type {\n",
       "        vertical-align: middle;\n",
       "    }\n",
       "\n",
       "    .dataframe tbody tr th {\n",
       "        vertical-align: top;\n",
       "    }\n",
       "\n",
       "    .dataframe thead th {\n",
       "        text-align: right;\n",
       "    }\n",
       "</style>\n",
       "<table border=\"1\" class=\"dataframe\">\n",
       "  <thead>\n",
       "    <tr style=\"text-align: right;\">\n",
       "      <th></th>\n",
       "      <th>dice_1</th>\n",
       "      <th>dice_2</th>\n",
       "    </tr>\n",
       "  </thead>\n",
       "  <tbody>\n",
       "    <tr>\n",
       "      <th>0</th>\n",
       "      <td>1</td>\n",
       "      <td>1</td>\n",
       "    </tr>\n",
       "    <tr>\n",
       "      <th>35</th>\n",
       "      <td>1</td>\n",
       "      <td>2</td>\n",
       "    </tr>\n",
       "    <tr>\n",
       "      <th>10</th>\n",
       "      <td>1</td>\n",
       "      <td>3</td>\n",
       "    </tr>\n",
       "    <tr>\n",
       "      <th>3</th>\n",
       "      <td>1</td>\n",
       "      <td>4</td>\n",
       "    </tr>\n",
       "    <tr>\n",
       "      <th>26</th>\n",
       "      <td>1</td>\n",
       "      <td>5</td>\n",
       "    </tr>\n",
       "    <tr>\n",
       "      <th>9</th>\n",
       "      <td>1</td>\n",
       "      <td>6</td>\n",
       "    </tr>\n",
       "    <tr>\n",
       "      <th>16</th>\n",
       "      <td>2</td>\n",
       "      <td>1</td>\n",
       "    </tr>\n",
       "    <tr>\n",
       "      <th>1</th>\n",
       "      <td>2</td>\n",
       "      <td>2</td>\n",
       "    </tr>\n",
       "    <tr>\n",
       "      <th>63</th>\n",
       "      <td>2</td>\n",
       "      <td>3</td>\n",
       "    </tr>\n",
       "    <tr>\n",
       "      <th>37</th>\n",
       "      <td>2</td>\n",
       "      <td>4</td>\n",
       "    </tr>\n",
       "    <tr>\n",
       "      <th>2</th>\n",
       "      <td>2</td>\n",
       "      <td>5</td>\n",
       "    </tr>\n",
       "    <tr>\n",
       "      <th>11</th>\n",
       "      <td>2</td>\n",
       "      <td>6</td>\n",
       "    </tr>\n",
       "    <tr>\n",
       "      <th>47</th>\n",
       "      <td>3</td>\n",
       "      <td>1</td>\n",
       "    </tr>\n",
       "    <tr>\n",
       "      <th>84</th>\n",
       "      <td>3</td>\n",
       "      <td>2</td>\n",
       "    </tr>\n",
       "    <tr>\n",
       "      <th>51</th>\n",
       "      <td>3</td>\n",
       "      <td>3</td>\n",
       "    </tr>\n",
       "    <tr>\n",
       "      <th>12</th>\n",
       "      <td>3</td>\n",
       "      <td>4</td>\n",
       "    </tr>\n",
       "    <tr>\n",
       "      <th>56</th>\n",
       "      <td>4</td>\n",
       "      <td>1</td>\n",
       "    </tr>\n",
       "    <tr>\n",
       "      <th>44</th>\n",
       "      <td>4</td>\n",
       "      <td>2</td>\n",
       "    </tr>\n",
       "    <tr>\n",
       "      <th>13</th>\n",
       "      <td>4</td>\n",
       "      <td>3</td>\n",
       "    </tr>\n",
       "    <tr>\n",
       "      <th>24</th>\n",
       "      <td>4</td>\n",
       "      <td>4</td>\n",
       "    </tr>\n",
       "    <tr>\n",
       "      <th>18</th>\n",
       "      <td>4</td>\n",
       "      <td>5</td>\n",
       "    </tr>\n",
       "    <tr>\n",
       "      <th>23</th>\n",
       "      <td>4</td>\n",
       "      <td>6</td>\n",
       "    </tr>\n",
       "    <tr>\n",
       "      <th>6</th>\n",
       "      <td>5</td>\n",
       "      <td>1</td>\n",
       "    </tr>\n",
       "    <tr>\n",
       "      <th>21</th>\n",
       "      <td>5</td>\n",
       "      <td>2</td>\n",
       "    </tr>\n",
       "    <tr>\n",
       "      <th>28</th>\n",
       "      <td>5</td>\n",
       "      <td>3</td>\n",
       "    </tr>\n",
       "    <tr>\n",
       "      <th>7</th>\n",
       "      <td>5</td>\n",
       "      <td>4</td>\n",
       "    </tr>\n",
       "    <tr>\n",
       "      <th>4</th>\n",
       "      <td>5</td>\n",
       "      <td>5</td>\n",
       "    </tr>\n",
       "    <tr>\n",
       "      <th>45</th>\n",
       "      <td>5</td>\n",
       "      <td>6</td>\n",
       "    </tr>\n",
       "    <tr>\n",
       "      <th>5</th>\n",
       "      <td>6</td>\n",
       "      <td>1</td>\n",
       "    </tr>\n",
       "    <tr>\n",
       "      <th>60</th>\n",
       "      <td>6</td>\n",
       "      <td>2</td>\n",
       "    </tr>\n",
       "    <tr>\n",
       "      <th>42</th>\n",
       "      <td>6</td>\n",
       "      <td>3</td>\n",
       "    </tr>\n",
       "    <tr>\n",
       "      <th>70</th>\n",
       "      <td>6</td>\n",
       "      <td>4</td>\n",
       "    </tr>\n",
       "    <tr>\n",
       "      <th>14</th>\n",
       "      <td>6</td>\n",
       "      <td>5</td>\n",
       "    </tr>\n",
       "    <tr>\n",
       "      <th>8</th>\n",
       "      <td>6</td>\n",
       "      <td>6</td>\n",
       "    </tr>\n",
       "  </tbody>\n",
       "</table>\n",
       "</div>"
      ],
      "text/plain": [
       "    dice_1  dice_2\n",
       "0        1       1\n",
       "35       1       2\n",
       "10       1       3\n",
       "3        1       4\n",
       "26       1       5\n",
       "9        1       6\n",
       "16       2       1\n",
       "1        2       2\n",
       "63       2       3\n",
       "37       2       4\n",
       "2        2       5\n",
       "11       2       6\n",
       "47       3       1\n",
       "84       3       2\n",
       "51       3       3\n",
       "12       3       4\n",
       "56       4       1\n",
       "44       4       2\n",
       "13       4       3\n",
       "24       4       4\n",
       "18       4       5\n",
       "23       4       6\n",
       "6        5       1\n",
       "21       5       2\n",
       "28       5       3\n",
       "7        5       4\n",
       "4        5       5\n",
       "45       5       6\n",
       "5        6       1\n",
       "60       6       2\n",
       "42       6       3\n",
       "70       6       4\n",
       "14       6       5\n",
       "8        6       6"
      ]
     },
     "execution_count": 158,
     "metadata": {},
     "output_type": "execute_result"
    }
   ],
   "source": [
    "dice = [ x for x in range(1,7)]\n",
    "\n",
    "n = 1000\n",
    "dict_two_dice = {'dice_1': [np.random.choice(dice) for x in range(n)],\n",
    "                  'dice_2': [np.random.choice(dice) for x in range(n)]}\n",
    "A4 = pd.DataFrame(data=dict_two_dice)\n",
    "# для описания множества всех элементарных событий выберем из dataset уникальные строки\n",
    "A4 = A4.sort_values(by = ['dice_1', 'dice_2'])\n",
    "elementary_events_set4 = A4.drop_duplicates()\n",
    "elementary_events_set4\n"
   ]
  },
  {
   "cell_type": "code",
   "execution_count": 164,
   "metadata": {},
   "outputs": [
    {
     "name": "stdout",
     "output_type": "stream",
     "text": [
      "Вероятность выпадения двух \"шестерок\" 0.0295. \t Аналитически: 0.027777777777777776\n"
     ]
    }
   ],
   "source": [
    "# A = {вышло две \"шестерки\"}\n",
    "n = 10000\n",
    "dict_two_dice = {'dice_1': [np.random.choice(dice) for x in range(n)],\n",
    "                  'dice_2': [np.random.choice(dice) for x in range(n)]}\n",
    "A4 = pd.DataFrame(data=dict_two_dice)\n",
    "P_A4 = len(A4[(A4['dice_1']==6)&(A4['dice_2']==6)])/len(A4)\n",
    "print(f'Вероятность выпадения двух \"шестерок\" {P_A4}. \\t Аналитически: {1/36}')"
   ]
  },
  {
   "cell_type": "code",
   "execution_count": 166,
   "metadata": {},
   "outputs": [
    {
     "name": "stdout",
     "output_type": "stream",
     "text": [
      "Вероятность выпадения двух \"шестерок\" 0.0851. \t Аналитически: 0.08333333333333333\n"
     ]
    }
   ],
   "source": [
    "# B = {сумма выпавших очков не меньше 11}\n",
    "n = 10000\n",
    "dict_two_dice = {'dice_1': [np.random.choice(dice) for x in range(n)],\n",
    "                  'dice_2': [np.random.choice(dice) for x in range(n)]}\n",
    "A4 = pd.DataFrame(data=dict_two_dice)\n",
    "A4['Sum'] = A4['dice_1']+A4['dice_2']\n",
    "P_B4 = len(A4[(A4['Sum']>=11)])/len(A4)\n",
    "print(f'Вероятность выпавших очков не меньше 11 {P_B4}. \\t Аналитически: {3/36}')"
   ]
  },
  {
   "cell_type": "code",
   "execution_count": 173,
   "metadata": {},
   "outputs": [
    {
     "name": "stdout",
     "output_type": "stream",
     "text": [
      "Вероятность что не выпала ни одна \"шестерка\" 0.6945. \t Аналитически: 0.6944444444444444\n"
     ]
    }
   ],
   "source": [
    "# C = {не выпала ни одна \"шестерка\"}\n",
    "n = 10000\n",
    "dict_two_dice = {'dice_1': [np.random.choice(dice) for x in range(n)],\n",
    "                  'dice_2': [np.random.choice(dice) for x in range(n)]}\n",
    "A4 = pd.DataFrame(data=dict_two_dice)\n",
    "P_С4 = len(A4[(A4['dice_1']<6)&(A4['dice_2']<6)])/len(A4)\n",
    "print(f'Вероятность что не выпала ни одна \"шестерка\" {P_С4}. \\t Аналитически: {25/36}')"
   ]
  },
  {
   "cell_type": "markdown",
   "metadata": {
    "id": "f-Bi0p8haclB"
   },
   "source": [
    "## Вероятность суммы событий"
   ]
  },
  {
   "cell_type": "markdown",
   "metadata": {
    "id": "g7A7QlvGTnwZ"
   },
   "source": [
    "### Задача 5\n",
    "Брошены две игральные кости. Найти вероятность события D = {выпала хотя бы одна шестёрка}\n"
   ]
  },
  {
   "cell_type": "code",
   "execution_count": 175,
   "metadata": {
    "id": "vjtTJN-kUp9D"
   },
   "outputs": [
    {
     "name": "stdout",
     "output_type": "stream",
     "text": [
      "Вероятность что выпала хотя бы одна шестёрка 0.2999. \t Аналитически: 0.3055555555555556\n"
     ]
    }
   ],
   "source": [
    "n = 10000\n",
    "dict_two_dice = {'dice_1': [np.random.choice(dice) for x in range(n)],\n",
    "                  'dice_2': [np.random.choice(dice) for x in range(n)]}\n",
    "A4 = pd.DataFrame(data=dict_two_dice)\n",
    "P_D5 = len(A4[(A4['dice_1']==6)|(A4['dice_2']==6)])/len(A4)\n",
    "print(f'Вероятность что выпала хотя бы одна шестёрка {P_D5}. \\t Аналитически: {11/36}')"
   ]
  },
  {
   "cell_type": "markdown",
   "metadata": {
    "id": "R1bYSzQQbC6I"
   },
   "source": [
    "Предлагается также решить задачи: \n",
    "\n",
    "### Задача 6\n",
    "В телефонном номере три последние цифры стерлись. Считая, что все возможные значения стершихся цифр равновероятны, найти вероятность событий:\n",
    "\n",
    "A = {Стерлись различные цифры},\n",
    "\n",
    "B = {Стерлись одинаковые цифры},\n",
    "\n",
    "C = {Среди стершихся цифр хотя бы две совпадают},\n",
    "\n",
    "D = {Среди стершихся цифр хотя бы две различны}\n"
   ]
  },
  {
   "cell_type": "code",
   "execution_count": 179,
   "metadata": {},
   "outputs": [
    {
     "name": "stdout",
     "output_type": "stream",
     "text": [
      "Вероятность что стерлись различные цифры 0.737.\n"
     ]
    }
   ],
   "source": [
    "# A = {Стерлись различные цифры},\n",
    "pos_phone = list(range(10))\n",
    "\n",
    "n = 1000\n",
    "dict_three_numbers =  {'pos_1': [np.random.choice(pos_phone) for x in range(n)],\n",
    "                       'pos_2': [np.random.choice(pos_phone) for x in range(n)],\n",
    "                       'pos_3': [np.random.choice(pos_phone) for x in range(n)]}\n",
    "A6=pd.DataFrame(data=dict_three_numbers)\n",
    "P_A6=len(A6[(A6['pos_1']!=A6['pos_2'])&(A6['pos_1']!=A6['pos_3'])&(A6['pos_2']!=A6['pos_3'])])/len(A6)\n",
    "print(f'Вероятность что стерлись различные цифры {P_A6}.')"
   ]
  },
  {
   "cell_type": "code",
   "execution_count": 182,
   "metadata": {},
   "outputs": [
    {
     "name": "stdout",
     "output_type": "stream",
     "text": [
      "Вероятность что стерлись одинаковые цифры 0.01.\n"
     ]
    }
   ],
   "source": [
    "# B = {Стерлись одинаковые цифры}\n",
    "pos_phone = list(range(10))\n",
    "\n",
    "n = 1000\n",
    "dict_three_numbers =  {'pos_1': [np.random.choice(pos_phone) for x in range(n)],\n",
    "                       'pos_2': [np.random.choice(pos_phone) for x in range(n)],\n",
    "                       'pos_3': [np.random.choice(pos_phone) for x in range(n)]}\n",
    "A6=pd.DataFrame(data=dict_three_numbers)\n",
    "P_B6=len(A6[(A6['pos_1']==A6['pos_2'])&(A6['pos_1']==A6['pos_3'])])/len(A6)\n",
    "print(f'Вероятность что стерлись одинаковые цифры {P_B6}.')"
   ]
  },
  {
   "cell_type": "code",
   "execution_count": 183,
   "metadata": {},
   "outputs": [
    {
     "name": "stdout",
     "output_type": "stream",
     "text": [
      "Вероятность что среди стершихся цифр хотя бы две совпадают 0.278.\n"
     ]
    }
   ],
   "source": [
    "# C = {Среди стершихся цифр хотя бы две совпадают}\n",
    "pos_phone = list(range(10))\n",
    "\n",
    "n = 1000\n",
    "dict_three_numbers =  {'pos_1': [np.random.choice(pos_phone) for x in range(n)],\n",
    "                       'pos_2': [np.random.choice(pos_phone) for x in range(n)],\n",
    "                       'pos_3': [np.random.choice(pos_phone) for x in range(n)]}\n",
    "A6=pd.DataFrame(data=dict_three_numbers)\n",
    "P_C6=len(A6[(A6['pos_1']==A6['pos_2'])|(A6['pos_1']==A6['pos_3'])|(A6['pos_2']==A6['pos_3'])])/len(A6)\n",
    "print(f'Вероятность что среди стершихся цифр хотя бы две совпадают {P_C6}.')"
   ]
  },
  {
   "cell_type": "code",
   "execution_count": 184,
   "metadata": {},
   "outputs": [
    {
     "name": "stdout",
     "output_type": "stream",
     "text": [
      "Вероятность что среди стершихся цифр хотя бы две различны 0.989.\n"
     ]
    }
   ],
   "source": [
    "# D = {Среди стершихся цифр хотя бы две различны}\n",
    "pos_phone = list(range(10))\n",
    "\n",
    "n = 1000\n",
    "dict_three_numbers =  {'pos_1': [np.random.choice(pos_phone) for x in range(n)],\n",
    "                       'pos_2': [np.random.choice(pos_phone) for x in range(n)],\n",
    "                       'pos_3': [np.random.choice(pos_phone) for x in range(n)]}\n",
    "A6=pd.DataFrame(data=dict_three_numbers)\n",
    "P_D6=len(A6[(A6['pos_1']!=A6['pos_2'])|(A6['pos_1']!=A6['pos_3'])|(A6['pos_2']!=A6['pos_3'])])/len(A6)\n",
    "print(f'Вероятность что среди стершихся цифр хотя бы две различны {P_D6}.')"
   ]
  },
  {
   "cell_type": "markdown",
   "metadata": {
    "id": "RnugkR8BalK_"
   },
   "source": [
    "## Случайные величины"
   ]
  },
  {
   "cell_type": "markdown",
   "metadata": {
    "id": "yLoZDZ17UVsp"
   },
   "source": [
    "### Задача 7\n",
    "В лотерее имеется 10 билетов, из которых один выигрышный. Размер выигрыша 10 ден. ед.; стоимость билета 1 ден ед. Найти закон распределения случайной величины X, равной чистому выигрышу участника лотереи, который вытаскивает билет первым."
   ]
  },
  {
   "cell_type": "code",
   "execution_count": 41,
   "metadata": {
    "id": "oNk432sKUqzT"
   },
   "outputs": [
    {
     "data": {
      "text/plain": [
       "0    0.10096\n",
       "1    0.09961\n",
       "2    0.09945\n",
       "3    0.10003\n",
       "4    0.10020\n",
       "5    0.10047\n",
       "6    0.10031\n",
       "7    0.10095\n",
       "8    0.09813\n",
       "9    0.09989\n",
       "Name: win_size, dtype: float64"
      ]
     },
     "execution_count": 41,
     "metadata": {},
     "output_type": "execute_result"
    },
    {
     "data": {
      "image/png": "[encoded data removed]",
      "text/plain": [
       "<Figure size 640x480 with 1 Axes>"
      ]
     },
     "metadata": {},
     "output_type": "display_data"
    }
   ],
   "source": [
    "#Возможно понял задачу не правильно.\n",
    "#Понял так: участник тащит билеты пока не вытащит выйгрышный,\n",
    "#А \"чистый выйгрыш\" это то что выйграл за минусом то что потратил на пакупку билетов\n",
    "\n",
    "w = list(range(10))[::-1] #размер выйгрыша в зависимости от того на каком шаге попадется выйгрышный билет\n",
    "\n",
    "n = 100000\n",
    "dict_win_size = {'win_size': [np.random.choice(w) for x in range(n)]}\n",
    "A7 = pd.DataFrame(data = dict_win_size)\n",
    "x1 = A7['win_size'].sort_values(ascending=True).unique() \n",
    "y1 = A7['win_size'].value_counts(normalize=True).sort_index(ascending=True)\n",
    "plt.scatter(x1, y1, color=\"blue\" )\n",
    "plt.axis([-1,10,0,0.2])\n",
    "plt.plot()\n",
    "plt.xticks(np.arange(len(x1)), x1)\n",
    "A7['win_size'].value_counts(normalize=True).sort_index(ascending=True)"
   ]
  },
  {
   "cell_type": "markdown",
   "metadata": {
    "id": "U-NK9liSbpvb"
   },
   "source": [
    "Предлагается также решить задачу: \n",
    "\n",
    "### Задача 8\n",
    "Брошены две игральные кости. Найти закон распределения случайной величины $X$, равной сумме выпавших очков. Найти вероятности событий ${X <= 4}$, ${X > 4}$"
   ]
  },
  {
   "cell_type": "code",
   "execution_count": 51,
   "metadata": {},
   "outputs": [
    {
     "data": {
      "text/plain": [
       "2     0.02751\n",
       "3     0.05562\n",
       "4     0.08189\n",
       "5     0.11089\n",
       "6     0.13811\n",
       "7     0.16864\n",
       "8     0.13870\n",
       "9     0.11218\n",
       "10    0.08359\n",
       "11    0.05479\n",
       "12    0.02808\n",
       "Name: Sum, dtype: float64"
      ]
     },
     "execution_count": 51,
     "metadata": {},
     "output_type": "execute_result"
    },
    {
     "data": {
      "image/png": "[encoded data removed]",
      "text/plain": [
       "<Figure size 640x480 with 1 Axes>"
      ]
     },
     "metadata": {},
     "output_type": "display_data"
    }
   ],
   "source": [
    "dice = [ x for x in range(1,7)]\n",
    "\n",
    "n = 100000\n",
    "dict_two_dice = {'dice_1': [np.random.choice(dice) for x in range(n)],\n",
    "                  'dice_2': [np.random.choice(dice) for x in range(n)]}\n",
    "A8 = pd.DataFrame(data=dict_two_dice)\n",
    "A8['Sum'] = A8['dice_1']+A8['dice_2']\n",
    "# закон распределения\n",
    "x = A8['Sum'].sort_values(ascending=True).unique() \n",
    "y = A8['Sum'].value_counts(normalize=True).sort_index(ascending=True)\n",
    "plt.scatter(x, y, color=\"red\" )\n",
    "plt.plot()\n",
    "plt.xticks(x, x)\n",
    "A8['Sum'].value_counts(normalize=True).sort_index(ascending=True)"
   ]
  },
  {
   "cell_type": "code",
   "execution_count": 56,
   "metadata": {},
   "outputs": [
    {
     "name": "stdout",
     "output_type": "stream",
     "text": [
      "Вероятности событий ${X <= 4}$: 0.16502\n",
      "Вероятности событий ${X > 4}$: 0.83498\n"
     ]
    }
   ],
   "source": [
    "P1_A8 = len(A8[(A8['Sum']<=4)])/len(A8)\n",
    "P2_A8 = len(A8[(A8['Sum']>4)])/len(A8)\n",
    "print('Вероятности событий ${X <= 4}$: '+str(P1_A8))\n",
    "print('Вероятности событий ${X > 4}$: '+str(P2_A8))"
   ]
  },
  {
   "cell_type": "markdown",
   "metadata": {
    "id": "shgW4D83awjK"
   },
   "source": [
    "## Условные вероятности"
   ]
  },
  {
   "cell_type": "markdown",
   "metadata": {
    "id": "Fbu1RFZwWZrk"
   },
   "source": [
    "### Задача 9\n",
    "Из колоды (36 карт) вынимают последовательно без возвращения две карты. Найти вероятность того, что первой картой была шестерка, а второй — семерка. Найти условную вероятность того же события при условии, что обе карты бубновой масти.\n"
   ]
  },
  {
   "cell_type": "code",
   "execution_count": 77,
   "metadata": {
    "id": "037o56awW9-E"
   },
   "outputs": [
    {
     "name": "stdout",
     "output_type": "stream",
     "text": [
      "Вероятность того, что первая - шестерка, а вторая - семерка: 0.01216\n",
      "Вероятность того, что первая - бубновая шестерка, а вторая - бубновая семерка: 0.0008\n"
     ]
    }
   ],
   "source": [
    "rank = ['6','7','8','9','10','Jack','Queen','King','Ace']\n",
    "suit = ['-diamonds','-hearts', '-clubs','-spades']\n",
    "deck =[]\n",
    "for i in rank:\n",
    "    for j in suit: \n",
    "        deck.append(i+j)\n",
    "deck\n",
    "n = 100000\n",
    "A = 0\n",
    "B = 0\n",
    "for s in range(n):\n",
    "    t = deck.copy()\n",
    "    first_card = np.random.choice(t)\n",
    "    t.remove(first_card)\n",
    "    second_card = np.random.choice(t)\n",
    "    if first_card[0] == '6' and second_card[0] == '7':\n",
    "        A += 1\n",
    "    if first_card == '6-diamonds' and second_card == '7-diamonds':\n",
    "        B += 1\n",
    "\n",
    "print(f'Вероятность того, что первая - шестерка, а вторая - семерка: {A/n}')\n",
    "print(f'Вероятность того, что первая - бубновая шестерка, а вторая - бубновая семерка: {B/n}')"
   ]
  },
  {
   "cell_type": "markdown",
   "metadata": {
    "id": "hNVxtaz5c57b"
   },
   "source": [
    "Предлагается также решить задачу: \n",
    "\n",
    "### Задача 10\n",
    "Из урны, содержащей два белых и три черных шара, последовательно извлекают два шара; вынутые шары не возвращаются. Если первый шар оказался черным, то перед вторым извлечением в урну добавляют белый шар. В противном случае состав оставшихся шаров не меняют. Найти вероятности событий:\n",
    "\n",
    "$A$ = {извлечены два белых шара},\n",
    "\n",
    "$B$ = {извлечены два черных шара}\n",
    "\n",
    "Указание. Пусть событие $C_1$ = {первый шар белый}, событие $C_2$ = {второй шар белый}. Тогда $A = C_1C_2$, $B = \\overline C_1 \\overline C_2$ "
   ]
  },
  {
   "cell_type": "code",
   "execution_count": 84,
   "metadata": {
    "id": "WSLnhk2sdBt_"
   },
   "outputs": [
    {
     "name": "stdout",
     "output_type": "stream",
     "text": [
      "Вероятность события 𝐴(извлечены два белых шара): 0.10088\n",
      "Вероятность события 𝐵(извлечены два черных шара): 0.24197\n"
     ]
    }
   ],
   "source": [
    "def fill_urn (n_white, n_black=0):\n",
    "    return [\"white\"]*n_white + ['black']*n_black\n",
    "\n",
    "urn = fill_urn(2,3)\n",
    "n = 100000\n",
    "A_10 = 0\n",
    "B_10 = 0\n",
    "for i in range(n):\n",
    "    tmp = urn.copy()\n",
    "    first_ball = np.random.choice(tmp)\n",
    "    tmp.remove(first_ball)\n",
    "    if first_ball == 'black':\n",
    "        tmp.append('white')\n",
    "    second_ball = np.random.choice(tmp)\n",
    "    if first_ball == 'white' and second_ball == 'white':\n",
    "        A_10 += 1\n",
    "    if first_ball == 'black' and second_ball == 'black':\n",
    "        B_10 += 1\n",
    "print(f'Вероятность события 𝐴(извлечены два белых шара): {A_10/n}')\n",
    "print(f'Вероятность события 𝐵(извлечены два черных шара): {B_10/n}')\n"
   ]
  }
 ],
 "metadata": {
  "colab": {
   "collapsed_sections": [],
   "name": "Практика к занятию 11.ipynb",
   "provenance": []
  },
  "kernelspec": {
   "display_name": "Python 3 (ipykernel)",
   "language": "python",
   "name": "python3"
  },
  "language_info": {
   "codemirror_mode": {
    "name": "ipython",
    "version": 3
   },
   "file_extension": ".py",
   "mimetype": "text/x-python",
   "name": "python",
   "nbconvert_exporter": "python",
   "pygments_lexer": "ipython3",
   "version": "3.10.9"
  },
  "nbTranslate": {
   "displayLangs": [
    "*"
   ],
   "hotkey": "alt-t",
   "langInMainMenu": true,
   "sourceLang": "en",
   "targetLang": "fr",
   "useGoogleTranslate": true
  },
  "toc": {
   "base_numbering": 1,
   "nav_menu": {},
   "number_sections": true,
   "sideBar": true,
   "skip_h1_title": false,
   "title_cell": "Table of Contents",
   "title_sidebar": "Contents",
   "toc_cell": true,
   "toc_position": {
    "height": "calc(100% - 180px)",
    "left": "10px",
    "top": "150px",
    "width": "336px"
   },
   "toc_section_display": true,
   "toc_window_display": true
  }
 },
 "nbformat": 4,
 "nbformat_minor": 1
}
